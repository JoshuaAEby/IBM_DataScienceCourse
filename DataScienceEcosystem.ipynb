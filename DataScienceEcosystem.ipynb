{
 "cells": [
  {
   "cell_type": "markdown",
   "id": "80db41d7-db8a-4693-90ac-b20318e28620",
   "metadata": {},
   "source": [
    "# Data Science Tools and Ecosystem"
   ]
  },
  {
   "cell_type": "markdown",
   "id": "77b41370-ce31-4de7-99ed-8b018d6768be",
   "metadata": {},
   "source": [
    "In this notebook, Data Science Tools and Ecosystem are summarized."
   ]
  },
  {
   "cell_type": "markdown",
   "id": "23e255ae-1c00-4e62-956c-36246a94e719",
   "metadata": {},
   "source": [
    "## Author\n",
    "\n",
    "Joshua Eby"
   ]
  },
  {
   "cell_type": "markdown",
   "id": "a8fd544f-7111-49e7-82ce-bd5cc42a710d",
   "metadata": {},
   "source": [
    "**Objectives:**\n",
    "\n",
    "* List popular languages in Data Science\n",
    "* List commonly-used libraries in Data Science\n",
    "* List tools in Data Science\n",
    "* Illustrate basic arithmetic functions in Python"
   ]
  },
  {
   "cell_type": "markdown",
   "id": "56ed7cd0-c432-419f-a5a6-e4a0407851e2",
   "metadata": {},
   "source": [
    "Some popular languages that Data Scientists use are as follows:\n",
    "1. Python\n",
    "2. R\n",
    "3. SQL\n",
    "4. Stata\n",
    "5. Java\n",
    "   \n",
    "...among others!"
   ]
  },
  {
   "cell_type": "markdown",
   "id": "12eca1ac-96b0-4333-bfcc-137c05e2bb91",
   "metadata": {},
   "source": [
    "Some commonly-used libraries in Data Science include:\n",
    "\n",
    "1. NumPy\n",
    "2. SciPy\n",
    "3. Pandas\n",
    "4. TensorFlow\n",
    "5. SciKit-Learn\n",
    "\n",
    "...and many more!"
   ]
  },
  {
   "cell_type": "markdown",
   "id": "d80670a9-66fb-4626-8b9d-5d84f2bee071",
   "metadata": {},
   "source": [
    "| Data Science Tools |\n",
    "| ------------------ |\n",
    "| Jupyter Notebook |\n",
    "| Jupyter Lab |\n",
    "| Apache Zeppelin |\n",
    "| Spyder |\n",
    "| Anaconda |"
   ]
  },
  {
   "cell_type": "markdown",
   "id": "06b6d1a8-583b-4507-b87a-1892cc620811",
   "metadata": {},
   "source": [
    "### Below are a few examples of evaluating arithmetic expressions in Python"
   ]
  },
  {
   "cell_type": "code",
   "execution_count": 2,
   "id": "d2c3e0ee-132f-43b2-bafc-62f11f6e2336",
   "metadata": {},
   "outputs": [
    {
     "data": {
      "text/plain": [
       "17"
      ]
     },
     "execution_count": 2,
     "metadata": {},
     "output_type": "execute_result"
    }
   ],
   "source": [
    "# This is a simple arithmetic expression to multipy and then add integers\n",
    "\n",
    "(3*4)+5"
   ]
  },
  {
   "cell_type": "code",
   "execution_count": 3,
   "id": "78eebb72-6331-445a-a920-159f21599ca4",
   "metadata": {},
   "outputs": [
    {
     "data": {
      "text/plain": [
       "3.3333333333333335"
      ]
     },
     "execution_count": 3,
     "metadata": {},
     "output_type": "execute_result"
    }
   ],
   "source": [
    "# This will convert 200 minutes to hours by dividing by 60\n",
    "\n",
    "200/60"
   ]
  },
  {
   "cell_type": "code",
   "execution_count": null,
   "id": "5a48b2ca-fad2-4c04-a1a6-be9f3d2d94ea",
   "metadata": {},
   "outputs": [],
   "source": []
  }
 ],
 "metadata": {
  "kernelspec": {
   "display_name": "Python 3 (ipykernel)",
   "language": "python",
   "name": "python3"
  },
  "language_info": {
   "codemirror_mode": {
    "name": "ipython",
    "version": 3
   },
   "file_extension": ".py",
   "mimetype": "text/x-python",
   "name": "python",
   "nbconvert_exporter": "python",
   "pygments_lexer": "ipython3",
   "version": "3.11.0"
  }
 },
 "nbformat": 4,
 "nbformat_minor": 5
}
